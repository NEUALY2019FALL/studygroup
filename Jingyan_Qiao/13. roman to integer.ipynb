{
 "cells": [
  {
   "cell_type": "markdown",
   "metadata": {},
   "source": [
    "convert roman to integer"
   ]
  },
  {
   "cell_type": "code",
   "execution_count": 30,
   "metadata": {},
   "outputs": [
    {
     "name": "stdout",
     "output_type": "stream",
     "text": [
      "58\n"
     ]
    }
   ],
   "source": [
    "# model 1\n",
    "d1 = {'I':1,'V':5,'X':10,'L':50,'C':100,'D':500,'M':1000}\n",
    "d2 = {'IV':4,'IX':9,'XL':40,'XC':90,'CD':400,'CM':900}\n",
    "d3 = ['IV','IX','XL','XC','CD','CM']\n",
    "j = 0\n",
    "k = 0\n",
    "for i in d3:\n",
    "    if i in s:\n",
    "        j = j+d2[i]\n",
    "        s = s.replace(i,'')\n",
    "for i in s:\n",
    "    k = k+d1[i]\n",
    "print(k+j) # 28ms 96.92%"
   ]
  },
  {
   "cell_type": "code",
   "execution_count": 27,
   "metadata": {},
   "outputs": [],
   "source": [
    "s = 'MCMXCIV' #1994"
   ]
  },
  {
   "cell_type": "code",
   "execution_count": 29,
   "metadata": {},
   "outputs": [],
   "source": [
    "s = 'LVIII' #58"
   ]
  }
 ],
 "metadata": {
  "kernelspec": {
   "display_name": "Python 3",
   "language": "python",
   "name": "python3"
  },
  "language_info": {
   "codemirror_mode": {
    "name": "ipython",
    "version": 3
   },
   "file_extension": ".py",
   "mimetype": "text/x-python",
   "name": "python",
   "nbconvert_exporter": "python",
   "pygments_lexer": "ipython3",
   "version": "3.7.4"
  }
 },
 "nbformat": 4,
 "nbformat_minor": 2
}
