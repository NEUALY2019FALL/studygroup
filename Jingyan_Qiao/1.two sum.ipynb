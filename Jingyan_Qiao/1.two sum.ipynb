{
 "cells": [
  {
   "cell_type": "markdown",
   "metadata": {},
   "source": [
    "#### Requirement:\n",
    "\n",
    "Given an array of integers, return indices of the two numbers such that they add up to a specific target.\n",
    "\n",
    "each input would have exactly one solution, not use the same element twice"
   ]
  },
  {
   "cell_type": "markdown",
   "metadata": {},
   "source": [
    "#### example:\n",
    "    \n",
    "input: nums = [2,7,6,5], target = 9\n",
    "\n",
    "output: [0,1]"
   ]
  },
  {
   "cell_type": "code",
   "execution_count": 4,
   "metadata": {},
   "outputs": [],
   "source": [
    "# model 1\n",
    "def twoSum(nums, target):\n",
    "    for i in range(len(nums)):\n",
    "        for j in range(i+1,len(nums)):\n",
    "            if nums[i]+nums[j] == target:\n",
    "                return([i,j])"
   ]
  },
  {
   "cell_type": "code",
   "execution_count": 6,
   "metadata": {},
   "outputs": [
    {
     "data": {
      "text/plain": [
       "[1, 2]"
      ]
     },
     "execution_count": 6,
     "metadata": {},
     "output_type": "execute_result"
    }
   ],
   "source": [
    "nums = [2,11,-2]\n",
    "target = 9\n",
    "twoSum(nums,target) #4572ms, 12.6mb"
   ]
  },
  {
   "cell_type": "code",
   "execution_count": 24,
   "metadata": {},
   "outputs": [],
   "source": [
    "# model 2\n",
    "def twoSum(nums, target):\n",
    "    a ={} # empty dict\n",
    "    for i, num in enumerate(nums): # (0,2),(1,11),(0,-2)\n",
    "        if target-num in a:\n",
    "            return [a[target - num], i]\n",
    "        else:\n",
    "            a[num] = i\n",
    "# note1:\n",
    "# index -> value, fast\n",
    "# value -> index, slow\n",
    "# try to swich them, use dict, faster value -> index\n",
    "\n",
    "# note2:\n",
    "# be flexible, check whether target-num also in list"
   ]
  },
  {
   "cell_type": "code",
   "execution_count": 25,
   "metadata": {},
   "outputs": [
    {
     "data": {
      "text/plain": [
       "[1, 2]"
      ]
     },
     "execution_count": 25,
     "metadata": {},
     "output_type": "execute_result"
    }
   ],
   "source": [
    "nums = [2,11,-2]\n",
    "target = 9\n",
    "twoSum(nums,target)# 32ms,13.2mb, may be the best way"
   ]
  }
 ],
 "metadata": {
  "kernelspec": {
   "display_name": "Python 3",
   "language": "python",
   "name": "python3"
  },
  "language_info": {
   "codemirror_mode": {
    "name": "ipython",
    "version": 3
   },
   "file_extension": ".py",
   "mimetype": "text/x-python",
   "name": "python",
   "nbconvert_exporter": "python",
   "pygments_lexer": "ipython3",
   "version": "3.7.4"
  }
 },
 "nbformat": 4,
 "nbformat_minor": 2
}
