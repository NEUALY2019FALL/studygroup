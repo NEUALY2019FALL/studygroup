{
 "cells": [
  {
   "cell_type": "code",
   "execution_count": 6,
   "metadata": {},
   "outputs": [],
   "source": [
    "def twoSum(nums, target):\n",
    "        c=0\n",
    "        ran = len(nums)\n",
    "        while c< ran:\n",
    "            t = nums[c]\n",
    "            c2=c+1\n",
    "            while c2 <ran:\n",
    "                t2 =nums[c2]\n",
    "                if t+t2 == target:\n",
    "                    result=[c,c2]\n",
    "                    break\n",
    "                c2+=1\n",
    "            c+=1\n",
    "        return(result)"
   ]
  },
  {
   "cell_type": "code",
   "execution_count": 8,
   "metadata": {},
   "outputs": [
    {
     "data": {
      "text/plain": [
       "[0, 5]"
      ]
     },
     "execution_count": 8,
     "metadata": {},
     "output_type": "execute_result"
    }
   ],
   "source": [
    "x=[2,7,11,15,37,12]\n",
    "y=14\n",
    "twoSum(x,y)"
   ]
  }
 ],
 "metadata": {
  "kernelspec": {
   "display_name": "py35",
   "language": "python",
   "name": "py35"
  },
  "language_info": {
   "codemirror_mode": {
    "name": "ipython",
    "version": 3
   },
   "file_extension": ".py",
   "mimetype": "text/x-python",
   "name": "python",
   "nbconvert_exporter": "python",
   "pygments_lexer": "ipython3",
   "version": "3.6.7"
  }
 },
 "nbformat": 4,
 "nbformat_minor": 2
}
